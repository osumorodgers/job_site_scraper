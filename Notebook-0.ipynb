{
 "cells": [
  {
   "cell_type": "code",
   "execution_count": 5,
   "metadata": {
    "azdata_cell_guid": "1d32068c-928c-4b6a-9d10-6b060cf81ae5"
   },
   "outputs": [],
   "source": [
    "import requests\n",
    "from bs4 import BeautifulSoup\n",
    "\n",
    "URL = 'https://www.brightermonday.co.ke/jobs?sort_by=latest'\n",
    "page = requests.get(URL)\n",
    "soup = BeautifulSoup(page.content, 'html.parser')"
   ]
  },
  {
   "cell_type": "code",
   "execution_count": 7,
   "metadata": {
    "azdata_cell_guid": "a6134bd2-fc40-400f-90e1-b3b49704333a"
   },
   "outputs": [],
   "source": [
    "### Finding element by id\n",
    "results = soup.find(class_='top-jobs-if-containerb')"
   ]
  },
  {
   "cell_type": "code",
   "execution_count": 9,
   "metadata": {
    "azdata_cell_guid": "ec136242-d4c7-481a-8714-5d8fef342b57"
   },
   "outputs": [],
   "source": [
    "job_elems = results.find_all('div', class_='top-jobs__card--border-bottom top-jobs__card')"
   ]
  },
  {
   "cell_type": "code",
   "execution_count": 13,
   "metadata": {
    "azdata_cell_guid": "30076002-308a-426c-9b7a-2920f976cce8"
   },
   "outputs": [
    {
     "name": "stdout",
     "output_type": "stream",
     "text": [
      "None\n",
      "\n",
      "Confidential\n",
      "\n",
      "\n",
      "Nairobi\n",
      "|\n",
      "Contract\n",
      "\n",
      "\n",
      "Nairobi\n",
      "|\n",
      "Contract\n",
      "\n",
      "\n",
      "Nairobi\n",
      "\n",
      "\n",
      "None\n",
      "\n",
      "Confidential\n",
      "\n",
      "\n",
      "Nairobi\n",
      "|\n",
      "Full Time\n",
      "\n",
      "\n",
      "Nairobi\n",
      "|\n",
      "Full Time\n",
      "\n",
      "\n",
      "Nairobi\n",
      "\n",
      "\n",
      "None\n",
      "\n",
      "Trucks City Limited\n",
      "\n",
      "\n",
      "Rest of Kenya (Eldoret)\n",
      "|\n",
      "Full Time\n",
      "|\n",
      "KSh\n",
      "\n",
      "15,000 - 30,000\n",
      "\n",
      "\n",
      "Rest of Kenya (Eldoret)\n",
      "|\n",
      "Full Time\n",
      "|\n",
      "KSh\n",
      "\n",
      "15,000 - 30,000\n",
      "\n",
      "\n",
      "Rest of Kenya (Eldoret)\n",
      "\n",
      "\n"
     ]
    }
   ],
   "source": [
    "for job_elem in job_elems:\n",
    "    # Each job_elem is a new BeautifulSoup object.\n",
    "    # You can use the same methods on it as you did before.\n",
    "    title_elem = job_elem.find('h3', class_='wrapper--inline-flex')\n",
    "    company_elem = job_elem.find('div', class_='if-content-panel')\n",
    "    location_elem = job_elem.find('div', class_='top-jobs__content')\n",
    "    employment_type = job_elem.find('div', class_= 'top-jobs__content')\n",
    "    dep = job_elem.find('div', 'top-jobs__content-meta')\n",
    "    print(title_elem)\n",
    "    print(company_elem.text)\n",
    "    print(location_elem.text)\n",
    "    print(employment_type.text)\n",
    "    print(dep.text)\n",
    "    print()"
   ]
  }
 ],
 "metadata": {
  "kernelspec": {
   "display_name": "Python 3",
   "language": "python",
   "name": "python3"
  },
  "language_info": {
   "codemirror_mode": {
    "name": "ipython",
    "version": 3
   },
   "file_extension": ".py",
   "mimetype": "text/x-python",
   "name": "python",
   "nbconvert_exporter": "python",
   "pygments_lexer": "ipython3",
   "version": "3.8.5"
  }
 },
 "nbformat": 4,
 "nbformat_minor": 2
}
